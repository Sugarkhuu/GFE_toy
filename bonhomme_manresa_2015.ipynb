{
 "cells": [
  {
   "cell_type": "markdown",
   "id": "081e705f",
   "metadata": {
    "slideshow": {
     "slide_type": "slide"
    }
   },
   "source": [
    "# Simulation time!\n",
    "### Grouped Patterns of Heterogeneity in Panel Data, Bonhomme, S. and Manresa, E. (2015)"
   ]
  },
  {
   "cell_type": "code",
   "execution_count": 1,
   "id": "c8e34368",
   "metadata": {
    "slideshow": {
     "slide_type": "slide"
    }
   },
   "outputs": [],
   "source": [
    "# packages\n",
    "import os\n",
    "import numpy as np\n",
    "import pandas as pd\n",
    "import matplotlib.pyplot as plt\n",
    "import seaborn as sns\n",
    "sns.set_theme()\n",
    "\n",
    "np.random.seed(seed=5) # used in random group assignment\n",
    "\n",
    "nt = 20 # number of periods\n",
    "nc = 10 # number of units\n",
    "ng = 3  # number of groups\n",
    "\n",
    "os.chdir(r\"GFE_generic\")"
   ]
  },
  {
   "cell_type": "code",
   "execution_count": 2,
   "id": "c5a9bc4a",
   "metadata": {
    "slideshow": {
     "slide_type": "slide"
    }
   },
   "outputs": [
    {
     "name": "stdout",
     "output_type": "stream",
     "text": [
      "Thresholds for group assignment: [0.         0.33333333 0.66666667]\n",
      "Trends for each group: [-7  4  5]\n",
      "Assigned groups: [1, 3, 1, 2, 3, 3, 3, 1, 1, 3]\n"
     ]
    }
   ],
   "source": [
    "gtrend = np.random.randint(-10,10,ng)\n",
    "\n",
    "gtresh = np.linspace(0,1,ng+1)[:-1]\n",
    "group_place = np.random.random(nc) # assign uniform RN to each cross section\n",
    "cg = [np.argmin(i>gtresh)+1 for i in group_place] # where the assigned RN are located in grid of thresholds\n",
    "\n",
    "print(f'Thresholds for group assignment: {gtresh}')\n",
    "print(f'Trends for each group: {gtrend}')\n",
    "print(f'Assigned groups: {cg}')"
   ]
  },
  {
   "cell_type": "markdown",
   "id": "1496a0b3",
   "metadata": {
    "slideshow": {
     "slide_type": "slide"
    }
   },
   "source": [
    "# Creating trends"
   ]
  },
  {
   "cell_type": "code",
   "execution_count": 3,
   "id": "3b64ced5",
   "metadata": {
    "scrolled": true,
    "slideshow": {
     "slide_type": "slide"
    }
   },
   "outputs": [
    {
     "data": {
      "text/plain": [
       "<matplotlib.legend.Legend at 0x1d6bac50340>"
      ]
     },
     "execution_count": 3,
     "metadata": {},
     "output_type": "execute_result"
    },
    {
     "data": {
      "image/png": "[encoded data removed]",
      "text/plain": [
       "<Figure size 432x288 with 1 Axes>"
      ]
     },
     "metadata": {},
     "output_type": "display_data"
    }
   ],
   "source": [
    "# Trends for groups\n",
    "groups = {}\n",
    "for i in range(ng):\n",
    "    ds = [0]\n",
    "    for y in range(nt):\n",
    "        ds.append(ds[-1]+gtrend[i]+np.random.rand()*25) # drift\n",
    "        \n",
    "    groups['g'+str(i+1)+'t'] = ds[1:] # group i's trend\n",
    "    plt.plot(groups['g'+str(i+1)+'t'], label='Group ' + str(i))\n",
    "\n",
    "plt.title('Trends')\n",
    "plt.legend()\n"
   ]
  },
  {
   "cell_type": "markdown",
   "id": "0f110281",
   "metadata": {
    "slideshow": {
     "slide_type": "slide"
    }
   },
   "source": [
    "# Create panel data based on groups, group trends, covariates and noise"
   ]
  },
  {
   "cell_type": "code",
   "execution_count": 4,
   "id": "afe800ac",
   "metadata": {
    "slideshow": {
     "slide_type": "slide"
    }
   },
   "outputs": [],
   "source": [
    "Group_trend = []\n",
    "time = []\n",
    "individual = []\n",
    "i_group = []\n",
    "coef_X1 = 15\n",
    "coef_X2 = 5\n",
    "std_u = 10\n",
    "\n",
    "for i, group in enumerate(cg):\n",
    "    obs = groups['g'+str(group)+'t']\n",
    "    Group_trend.extend(obs)\n",
    "    time.extend(np.arange(nt))\n",
    "    individual.extend(np.full(nt,i))\n",
    "    i_group.extend(np.full(nt,group))\n",
    "    \n",
    "df               = pd.DataFrame()\n",
    "df['X1']         = np.random.rand(len(Group_trend))\n",
    "df['X2']         = np.random.rand(len(Group_trend))\n",
    "df['Group_trend']= Group_trend\n",
    "df['u']          = std_u*np.random.randn(len(Group_trend))\n",
    "df['Y']          = df['Group_trend'] + coef_X1*df['X1']  + coef_X2*df['X2'] + df['u']\n",
    "df['time']       = time\n",
    "df['individual'] = individual\n",
    "df['group']      = i_group"
   ]
  },
  {
   "cell_type": "code",
   "execution_count": 5,
   "id": "c904998c",
   "metadata": {
    "scrolled": false,
    "slideshow": {
     "slide_type": "slide"
    }
   },
   "outputs": [
    {
     "data": {
      "text/html": [
       "<div>\n",
       "<style scoped>\n",
       "    .dataframe tbody tr th:only-of-type {\n",
       "        vertical-align: middle;\n",
       "    }\n",
       "\n",
       "    .dataframe tbody tr th {\n",
       "        vertical-align: top;\n",
       "    }\n",
       "\n",
       "    .dataframe thead th {\n",
       "        text-align: right;\n",
       "    }\n",
       "</style>\n",
       "<table border=\"1\" class=\"dataframe\">\n",
       "  <thead>\n",
       "    <tr style=\"text-align: right;\">\n",
       "      <th></th>\n",
       "      <th>X1</th>\n",
       "      <th>X2</th>\n",
       "      <th>Group_trend</th>\n",
       "      <th>u</th>\n",
       "      <th>Y</th>\n",
       "      <th>time</th>\n",
       "      <th>individual</th>\n",
       "      <th>group</th>\n",
       "    </tr>\n",
       "  </thead>\n",
       "  <tbody>\n",
       "    <tr>\n",
       "      <th>0</th>\n",
       "      <td>0.845055</td>\n",
       "      <td>0.752940</td>\n",
       "      <td>13.486820</td>\n",
       "      <td>-0.146943</td>\n",
       "      <td>29.780407</td>\n",
       "      <td>0</td>\n",
       "      <td>0</td>\n",
       "      <td>1</td>\n",
       "    </tr>\n",
       "    <tr>\n",
       "      <th>1</th>\n",
       "      <td>0.643682</td>\n",
       "      <td>0.961268</td>\n",
       "      <td>12.550330</td>\n",
       "      <td>15.165287</td>\n",
       "      <td>42.177190</td>\n",
       "      <td>1</td>\n",
       "      <td>0</td>\n",
       "      <td>1</td>\n",
       "    </tr>\n",
       "    <tr>\n",
       "      <th>2</th>\n",
       "      <td>0.134241</td>\n",
       "      <td>0.329443</td>\n",
       "      <td>24.659645</td>\n",
       "      <td>2.747575</td>\n",
       "      <td>31.068047</td>\n",
       "      <td>2</td>\n",
       "      <td>0</td>\n",
       "      <td>1</td>\n",
       "    </tr>\n",
       "    <tr>\n",
       "      <th>3</th>\n",
       "      <td>0.176722</td>\n",
       "      <td>0.453632</td>\n",
       "      <td>20.432164</td>\n",
       "      <td>4.385131</td>\n",
       "      <td>29.736292</td>\n",
       "      <td>3</td>\n",
       "      <td>0</td>\n",
       "      <td>1</td>\n",
       "    </tr>\n",
       "    <tr>\n",
       "      <th>4</th>\n",
       "      <td>0.318868</td>\n",
       "      <td>0.364137</td>\n",
       "      <td>18.536033</td>\n",
       "      <td>9.949923</td>\n",
       "      <td>35.089661</td>\n",
       "      <td>4</td>\n",
       "      <td>0</td>\n",
       "      <td>1</td>\n",
       "    </tr>\n",
       "    <tr>\n",
       "      <th>...</th>\n",
       "      <td>...</td>\n",
       "      <td>...</td>\n",
       "      <td>...</td>\n",
       "      <td>...</td>\n",
       "      <td>...</td>\n",
       "      <td>...</td>\n",
       "      <td>...</td>\n",
       "      <td>...</td>\n",
       "    </tr>\n",
       "    <tr>\n",
       "      <th>195</th>\n",
       "      <td>0.776037</td>\n",
       "      <td>0.930707</td>\n",
       "      <td>264.462185</td>\n",
       "      <td>0.027304</td>\n",
       "      <td>280.783582</td>\n",
       "      <td>15</td>\n",
       "      <td>9</td>\n",
       "      <td>3</td>\n",
       "    </tr>\n",
       "    <tr>\n",
       "      <th>196</th>\n",
       "      <td>0.232709</td>\n",
       "      <td>0.863346</td>\n",
       "      <td>283.620969</td>\n",
       "      <td>-4.894016</td>\n",
       "      <td>286.534324</td>\n",
       "      <td>16</td>\n",
       "      <td>9</td>\n",
       "      <td>3</td>\n",
       "    </tr>\n",
       "    <tr>\n",
       "      <th>197</th>\n",
       "      <td>0.188396</td>\n",
       "      <td>0.019890</td>\n",
       "      <td>293.995450</td>\n",
       "      <td>-5.706661</td>\n",
       "      <td>291.214181</td>\n",
       "      <td>17</td>\n",
       "      <td>9</td>\n",
       "      <td>3</td>\n",
       "    </tr>\n",
       "    <tr>\n",
       "      <th>198</th>\n",
       "      <td>0.960805</td>\n",
       "      <td>0.752084</td>\n",
       "      <td>302.921228</td>\n",
       "      <td>1.307230</td>\n",
       "      <td>322.400956</td>\n",
       "      <td>18</td>\n",
       "      <td>9</td>\n",
       "      <td>3</td>\n",
       "    </tr>\n",
       "    <tr>\n",
       "      <th>199</th>\n",
       "      <td>0.627695</td>\n",
       "      <td>0.813818</td>\n",
       "      <td>328.816582</td>\n",
       "      <td>-5.070129</td>\n",
       "      <td>337.230961</td>\n",
       "      <td>19</td>\n",
       "      <td>9</td>\n",
       "      <td>3</td>\n",
       "    </tr>\n",
       "  </tbody>\n",
       "</table>\n",
       "<p>200 rows × 8 columns</p>\n",
       "</div>"
      ],
      "text/plain": [
       "           X1        X2  Group_trend          u           Y  time  individual  \\\n",
       "0    0.845055  0.752940    13.486820  -0.146943   29.780407     0           0   \n",
       "1    0.643682  0.961268    12.550330  15.165287   42.177190     1           0   \n",
       "2    0.134241  0.329443    24.659645   2.747575   31.068047     2           0   \n",
       "3    0.176722  0.453632    20.432164   4.385131   29.736292     3           0   \n",
       "4    0.318868  0.364137    18.536033   9.949923   35.089661     4           0   \n",
       "..        ...       ...          ...        ...         ...   ...         ...   \n",
       "195  0.776037  0.930707   264.462185   0.027304  280.783582    15           9   \n",
       "196  0.232709  0.863346   283.620969  -4.894016  286.534324    16           9   \n",
       "197  0.188396  0.019890   293.995450  -5.706661  291.214181    17           9   \n",
       "198  0.960805  0.752084   302.921228   1.307230  322.400956    18           9   \n",
       "199  0.627695  0.813818   328.816582  -5.070129  337.230961    19           9   \n",
       "\n",
       "     group  \n",
       "0        1  \n",
       "1        1  \n",
       "2        1  \n",
       "3        1  \n",
       "4        1  \n",
       "..     ...  \n",
       "195      3  \n",
       "196      3  \n",
       "197      3  \n",
       "198      3  \n",
       "199      3  \n",
       "\n",
       "[200 rows x 8 columns]"
      ]
     },
     "execution_count": 5,
     "metadata": {},
     "output_type": "execute_result"
    }
   ],
   "source": [
    "df"
   ]
  },
  {
   "cell_type": "code",
   "execution_count": 6,
   "id": "6fb48373",
   "metadata": {
    "scrolled": true,
    "slideshow": {
     "slide_type": "slide"
    }
   },
   "outputs": [
    {
     "data": {
      "text/plain": [
       "([<matplotlib.axis.XTick at 0x1d6bc47ae20>,\n",
       "  <matplotlib.axis.XTick at 0x1d6bc47adf0>],\n",
       " [Text(0, 0, ''), Text(0, 0, '')])"
      ]
     },
     "execution_count": 6,
     "metadata": {},
     "output_type": "execute_result"
    },
    {
     "data": {
      "image/png": "[encoded data removed]",
      "text/plain": [
       "<Figure size 432x288 with 1 Axes>"
      ]
     },
     "metadata": {},
     "output_type": "display_data"
    }
   ],
   "source": [
    "# Visualize by individuals\n",
    "sns.lineplot(data=df,x='time',y='Y',hue='individual')\n",
    "plt.xticks(np.arange(0, nc, step=5))"
   ]
  },
  {
   "cell_type": "code",
   "execution_count": 7,
   "id": "2f0ff4c4",
   "metadata": {
    "scrolled": true,
    "slideshow": {
     "slide_type": "slide"
    }
   },
   "outputs": [
    {
     "data": {
      "text/plain": [
       "([<matplotlib.axis.XTick at 0x1d6bc557ac0>,\n",
       "  <matplotlib.axis.XTick at 0x1d6bc557a90>],\n",
       " [Text(0, 0, ''), Text(0, 0, '')])"
      ]
     },
     "execution_count": 7,
     "metadata": {},
     "output_type": "execute_result"
    },
    {
     "data": {
      "image/png": "[encoded data removed]",
      "text/plain": [
       "<Figure size 432x288 with 1 Axes>"
      ]
     },
     "metadata": {},
     "output_type": "display_data"
    }
   ],
   "source": [
    "# Visualize by groups\n",
    "sns.lineplot(data=df,x='time',y='Y',hue='group')\n",
    "plt.xticks(np.arange(0, nc, step=5))"
   ]
  },
  {
   "cell_type": "markdown",
   "id": "6d79628d",
   "metadata": {
    "slideshow": {
     "slide_type": "slide"
    }
   },
   "source": [
    "# Export to STATA to process it with the author's toolbox"
   ]
  },
  {
   "cell_type": "code",
   "execution_count": 8,
   "id": "aa0bea4b",
   "metadata": {
    "slideshow": {
     "slide_type": "-"
    }
   },
   "outputs": [],
   "source": [
    "df.to_stata(r'df.dta')"
   ]
  },
  {
   "cell_type": "markdown",
   "id": "003c26a5",
   "metadata": {
    "slideshow": {
     "slide_type": "slide"
    }
   },
   "source": [
    "# Running authors' the toolbox"
   ]
  },
  {
   "cell_type": "markdown",
   "id": "6644b04e",
   "metadata": {
    "slideshow": {
     "slide_type": "-"
    }
   },
   "source": [
    "* Put data file (df.dta in our case), Bootstrap_version.exe and GFE_code.do files in the same directory. \n",
    "* Configure GFE_code.do. Adjust USER INPUTS. \n",
    "* Then run GFE_code, also fill in the prompted inputs.\n",
    "* DATA_GFE.dta will be generated in the same folder. This data file contains group information. \n"
   ]
  },
  {
   "cell_type": "markdown",
   "id": "12c640ae",
   "metadata": {
    "slideshow": {
     "slide_type": "slide"
    }
   },
   "source": [
    "When running GFE_code.do, choose the following parameters:\n",
    "\n",
    "* Adjust the data directory path in line 87.\n",
    "* Number of groups: type “4” if number of groups is 4. \n",
    "* Number of covariates: type “2” if number of covariates is 2.\n",
    "* Algorithm: type “1” (for Algorithm 2).\n",
    "* Number of simulations: type “10”.\n",
    "* Number of neighbors: type “10”\n",
    "* Number of steps: type “10”.\n",
    "* Standard errors: type “1” (for bootstrapped standard errors).\n",
    "* Algorithm: type “1” (for Algorithm 2).\n",
    "* Number of simulations: type “5”.\n",
    "* Number of neighbors: type “10”.\n",
    "* Number of steps: type “5”.\n",
    "* Number of bootstrap replications: type “100”."
   ]
  },
  {
   "cell_type": "markdown",
   "id": "b361cd78",
   "metadata": {
    "slideshow": {
     "slide_type": "slide"
    }
   },
   "source": [
    "# Results"
   ]
  },
  {
   "cell_type": "code",
   "execution_count": 9,
   "id": "096b7aa7",
   "metadata": {
    "slideshow": {
     "slide_type": "-"
    }
   },
   "outputs": [
    {
     "data": {
      "text/html": [
       "<div>\n",
       "<style scoped>\n",
       "    .dataframe tbody tr th:only-of-type {\n",
       "        vertical-align: middle;\n",
       "    }\n",
       "\n",
       "    .dataframe tbody tr th {\n",
       "        vertical-align: top;\n",
       "    }\n",
       "\n",
       "    .dataframe thead tr th {\n",
       "        text-align: left;\n",
       "    }\n",
       "\n",
       "    .dataframe thead tr:last-of-type th {\n",
       "        text-align: right;\n",
       "    }\n",
       "</style>\n",
       "<table border=\"1\" class=\"dataframe\">\n",
       "  <thead>\n",
       "    <tr>\n",
       "      <th></th>\n",
       "      <th colspan=\"3\" halign=\"left\">assignment</th>\n",
       "    </tr>\n",
       "    <tr>\n",
       "      <th></th>\n",
       "      <th>mean</th>\n",
       "      <th>max</th>\n",
       "      <th>min</th>\n",
       "    </tr>\n",
       "    <tr>\n",
       "      <th>individual</th>\n",
       "      <th></th>\n",
       "      <th></th>\n",
       "      <th></th>\n",
       "    </tr>\n",
       "  </thead>\n",
       "  <tbody>\n",
       "    <tr>\n",
       "      <th>0</th>\n",
       "      <td>1</td>\n",
       "      <td>1</td>\n",
       "      <td>1</td>\n",
       "    </tr>\n",
       "    <tr>\n",
       "      <th>1</th>\n",
       "      <td>3</td>\n",
       "      <td>3</td>\n",
       "      <td>3</td>\n",
       "    </tr>\n",
       "    <tr>\n",
       "      <th>2</th>\n",
       "      <td>1</td>\n",
       "      <td>1</td>\n",
       "      <td>1</td>\n",
       "    </tr>\n",
       "    <tr>\n",
       "      <th>3</th>\n",
       "      <td>2</td>\n",
       "      <td>2</td>\n",
       "      <td>2</td>\n",
       "    </tr>\n",
       "    <tr>\n",
       "      <th>4</th>\n",
       "      <td>3</td>\n",
       "      <td>3</td>\n",
       "      <td>3</td>\n",
       "    </tr>\n",
       "    <tr>\n",
       "      <th>5</th>\n",
       "      <td>3</td>\n",
       "      <td>3</td>\n",
       "      <td>3</td>\n",
       "    </tr>\n",
       "    <tr>\n",
       "      <th>6</th>\n",
       "      <td>3</td>\n",
       "      <td>3</td>\n",
       "      <td>3</td>\n",
       "    </tr>\n",
       "    <tr>\n",
       "      <th>7</th>\n",
       "      <td>1</td>\n",
       "      <td>1</td>\n",
       "      <td>1</td>\n",
       "    </tr>\n",
       "    <tr>\n",
       "      <th>8</th>\n",
       "      <td>1</td>\n",
       "      <td>1</td>\n",
       "      <td>1</td>\n",
       "    </tr>\n",
       "    <tr>\n",
       "      <th>9</th>\n",
       "      <td>3</td>\n",
       "      <td>3</td>\n",
       "      <td>3</td>\n",
       "    </tr>\n",
       "  </tbody>\n",
       "</table>\n",
       "</div>"
      ],
      "text/plain": [
       "           assignment        \n",
       "                 mean max min\n",
       "individual                   \n",
       "0                   1   1   1\n",
       "1                   3   3   3\n",
       "2                   1   1   1\n",
       "3                   2   2   2\n",
       "4                   3   3   3\n",
       "5                   3   3   3\n",
       "6                   3   3   3\n",
       "7                   1   1   1\n",
       "8                   1   1   1\n",
       "9                   3   3   3"
      ]
     },
     "execution_count": 9,
     "metadata": {},
     "output_type": "execute_result"
    }
   ],
   "source": [
    "# Estimated groups\n",
    "df_gfe = pd.read_stata(r'DATA_GFE.dta')\n",
    "df_gfe.groupby('individual').agg({'assignment':['mean','max','min']})\n"
   ]
  },
  {
   "cell_type": "code",
   "execution_count": 10,
   "id": "1f62e70b",
   "metadata": {
    "slideshow": {
     "slide_type": "slide"
    }
   },
   "outputs": [
    {
     "name": "stdout",
     "output_type": "stream",
     "text": [
      "Assigned groups: [1, 3, 1, 2, 3, 3, 3, 1, 1, 3]\n",
      "Estimated groups: [1, 3, 1, 2, 3, 3, 3, 1, 1, 3]\n"
     ]
    }
   ],
   "source": [
    "print('Assigned groups: {}'.format(cg))\n",
    "\n",
    "est_g = df_gfe.groupby('individual')['assignment'].agg('mean').to_list()\n",
    "print('Estimated groups: {}'.format(est_g))"
   ]
  },
  {
   "cell_type": "markdown",
   "id": "3236f1e0",
   "metadata": {
    "slideshow": {
     "slide_type": "slide"
    }
   },
   "source": [
    "# The end of simulation"
   ]
  }
 ],
 "metadata": {
  "celltoolbar": "Slideshow",
  "kernelspec": {
   "display_name": "Python 3",
   "language": "python",
   "name": "python3"
  },
  "language_info": {
   "codemirror_mode": {
    "name": "ipython",
    "version": 3
   },
   "file_extension": ".py",
   "mimetype": "text/x-python",
   "name": "python",
   "nbconvert_exporter": "python",
   "pygments_lexer": "ipython3",
   "version": "3.8.8"
  },
  "rise": {
   "theme": "league"
  }
 },
 "nbformat": 4,
 "nbformat_minor": 5
}
